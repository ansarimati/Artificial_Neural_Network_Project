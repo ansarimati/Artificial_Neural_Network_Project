{
 "cells": [
  {
   "cell_type": "code",
   "execution_count": 1,
   "id": "dc363faa",
   "metadata": {},
   "outputs": [],
   "source": [
    "import keras"
   ]
  },
  {
   "cell_type": "code",
   "execution_count": 2,
   "id": "7030fecd",
   "metadata": {},
   "outputs": [],
   "source": [
    "from keras.models import Sequential\n",
    "from keras.layers import Dense\n",
    "from keras.optimizers import Adam"
   ]
  },
  {
   "cell_type": "code",
   "execution_count": 4,
   "id": "d6810d0f",
   "metadata": {},
   "outputs": [],
   "source": [
    "import numpy as np"
   ]
  },
  {
   "cell_type": "code",
   "execution_count": 5,
   "id": "278068f8",
   "metadata": {},
   "outputs": [],
   "source": [
    "from random import randint\n",
    "from sklearn.preprocessing import MinMaxScaler"
   ]
  },
  {
   "cell_type": "markdown",
   "id": "40d00d3a",
   "metadata": {},
   "source": [
    "## create the data "
   ]
  },
  {
   "cell_type": "code",
   "execution_count": 6,
   "id": "367ad17a",
   "metadata": {},
   "outputs": [],
   "source": [
    "train_sample = []\n",
    "train_label = []"
   ]
  },
  {
   "cell_type": "code",
   "execution_count": 7,
   "id": "7dde8c92",
   "metadata": {},
   "outputs": [],
   "source": [
    "for i in range(1000):\n",
    "    young_ages = randint(13,64)\n",
    "    train_sample.append(young_ages)\n",
    "    train_label.append(0)\n",
    "    \n",
    "    older_ages = randint(65,100)\n",
    "    train_sample.append(older_ages)\n",
    "    train_label.append(1)"
   ]
  },
  {
   "cell_type": "code",
   "execution_count": 23,
   "id": "d982bb8e",
   "metadata": {},
   "outputs": [
    {
     "data": {
      "text/plain": [
       "(2000, 2000)"
      ]
     },
     "execution_count": 23,
     "metadata": {},
     "output_type": "execute_result"
    }
   ],
   "source": [
    "len(train_sample), len(train_label)"
   ]
  },
  {
   "cell_type": "code",
   "execution_count": 24,
   "id": "edc30b7e",
   "metadata": {},
   "outputs": [],
   "source": [
    "# convert that data into numpy array"
   ]
  },
  {
   "cell_type": "code",
   "execution_count": 25,
   "id": "3f93f5a9",
   "metadata": {},
   "outputs": [],
   "source": [
    "train_sample = np.array(train_sample)\n",
    "train_label = np.array(train_label)"
   ]
  },
  {
   "cell_type": "code",
   "execution_count": 26,
   "id": "6cc239a1",
   "metadata": {},
   "outputs": [
    {
     "data": {
      "text/plain": [
       "(numpy.ndarray, numpy.ndarray)"
      ]
     },
     "execution_count": 26,
     "metadata": {},
     "output_type": "execute_result"
    }
   ],
   "source": [
    "type(train_label), type(train_sample)"
   ]
  },
  {
   "cell_type": "code",
   "execution_count": 27,
   "id": "2dcd45ae",
   "metadata": {},
   "outputs": [],
   "source": [
    "# convert the data in range from 0 to 1"
   ]
  },
  {
   "cell_type": "code",
   "execution_count": 28,
   "id": "d28cb436",
   "metadata": {},
   "outputs": [],
   "source": [
    "scaler = MinMaxScaler(feature_range=(0,1))"
   ]
  },
  {
   "cell_type": "code",
   "execution_count": 29,
   "id": "2ce18898",
   "metadata": {},
   "outputs": [],
   "source": [
    "scaled_train_sample = scaler.fit_transform(train_sample.reshape(-1,1))"
   ]
  },
  {
   "cell_type": "code",
   "execution_count": 30,
   "id": "c883786d",
   "metadata": {},
   "outputs": [],
   "source": [
    "scaled_train_label = scaler.transform(train_label.reshape(-1,1))"
   ]
  },
  {
   "cell_type": "code",
   "execution_count": null,
   "id": "0027b16d",
   "metadata": {},
   "outputs": [],
   "source": []
  },
  {
   "cell_type": "markdown",
   "id": "088f6150",
   "metadata": {},
   "source": [
    "## Create the ANN model"
   ]
  },
  {
   "cell_type": "code",
   "execution_count": 32,
   "id": "38c2c858",
   "metadata": {},
   "outputs": [],
   "source": [
    "from keras import layers"
   ]
  },
  {
   "cell_type": "code",
   "execution_count": 33,
   "id": "3b6b8fff",
   "metadata": {},
   "outputs": [],
   "source": [
    "model = keras.Sequential([\n",
    "    layers.Dense(units=16, activation='relu', input_shape=[1]),\n",
    "    layers.Dense(units=32, activation='relu'),\n",
    "    layers.Dense(units=2, activation='softmax')\n",
    "])"
   ]
  },
  {
   "cell_type": "code",
   "execution_count": 34,
   "id": "53f099d9",
   "metadata": {},
   "outputs": [],
   "source": [
    "model.compile(\n",
    "    optimizer='adam',\n",
    "    loss='sparse_categorical_crossentropy',\n",
    "    metrics=['accuracy']\n",
    "    \n",
    ")"
   ]
  },
  {
   "cell_type": "code",
   "execution_count": 35,
   "id": "9fd70836",
   "metadata": {},
   "outputs": [
    {
     "name": "stdout",
     "output_type": "stream",
     "text": [
      "Epoch 1/10\n",
      "200/200 [==============================] - 1s 739us/step - loss: 0.8955 - accuracy: 0.5975\n",
      "Epoch 2/10\n",
      "200/200 [==============================] - 0s 683us/step - loss: 0.4974 - accuracy: 0.7645\n",
      "Epoch 3/10\n",
      "200/200 [==============================] - 0s 678us/step - loss: 0.4284 - accuracy: 0.8305\n",
      "Epoch 4/10\n",
      "200/200 [==============================] - 0s 688us/step - loss: 0.3459 - accuracy: 0.8865\n",
      "Epoch 5/10\n",
      "200/200 [==============================] - 0s 688us/step - loss: 0.3021 - accuracy: 0.9015\n",
      "Epoch 6/10\n",
      "200/200 [==============================] - 0s 678us/step - loss: 0.2599 - accuracy: 0.9125\n",
      "Epoch 7/10\n",
      "200/200 [==============================] - 0s 683us/step - loss: 0.2233 - accuracy: 0.9360\n",
      "Epoch 8/10\n",
      "200/200 [==============================] - 0s 673us/step - loss: 0.2113 - accuracy: 0.9310\n",
      "Epoch 9/10\n",
      "200/200 [==============================] - 0s 704us/step - loss: 0.1860 - accuracy: 0.9435\n",
      "Epoch 10/10\n",
      "200/200 [==============================] - 0s 699us/step - loss: 0.1736 - accuracy: 0.9460\n"
     ]
    },
    {
     "data": {
      "text/plain": [
       "<keras.callbacks.History at 0x29989b7d100>"
      ]
     },
     "execution_count": 35,
     "metadata": {},
     "output_type": "execute_result"
    }
   ],
   "source": [
    "model.fit(train_sample, train_label, batch_size=10, epochs=10)"
   ]
  },
  {
   "cell_type": "code",
   "execution_count": 36,
   "id": "b43acbb4",
   "metadata": {},
   "outputs": [],
   "source": [
    "# accuracy: 0.9460 is good"
   ]
  },
  {
   "cell_type": "markdown",
   "id": "f84b4903",
   "metadata": {},
   "source": [
    "## Testing model"
   ]
  },
  {
   "cell_type": "code",
   "execution_count": 37,
   "id": "f49fc2c4",
   "metadata": {},
   "outputs": [],
   "source": [
    "test_sample = []\n",
    "test_label = []\n",
    "\n",
    "for i in range(500):\n",
    "    young_ages = randint(13, 64)\n",
    "    test_sample.append(young_ages)\n",
    "    test_label.append(0)\n",
    "    \n",
    "    old_ages = randint(65,100)\n",
    "    test_sample.append(old_ages)\n",
    "    test_label.append(1)"
   ]
  },
  {
   "cell_type": "code",
   "execution_count": 38,
   "id": "334679b9",
   "metadata": {},
   "outputs": [],
   "source": [
    "test_sample = np.array(test_sample)\n",
    "test_label = np.array(test_label)"
   ]
  },
  {
   "cell_type": "code",
   "execution_count": 50,
   "id": "aabdabd8",
   "metadata": {},
   "outputs": [
    {
     "name": "stdout",
     "output_type": "stream",
     "text": [
      "32/32 [==============================] - 0s 613us/step\n"
     ]
    }
   ],
   "source": [
    "out_put = model.predict(test_sample)\n",
    "classes_x = np.argmax(out_put, axis=1)\n",
    "\n",
    "# above line is copies from google becuase mode.predict_classes is removed from keras"
   ]
  },
  {
   "cell_type": "code",
   "execution_count": 47,
   "id": "23e0c363",
   "metadata": {},
   "outputs": [],
   "source": [
    "from sklearn.metrics import confusion_matrix"
   ]
  },
  {
   "cell_type": "code",
   "execution_count": 54,
   "id": "ceee13d2",
   "metadata": {},
   "outputs": [],
   "source": [
    "predicted_values = confusion_matrix(test_label, classes_x)"
   ]
  },
  {
   "cell_type": "code",
   "execution_count": 52,
   "id": "9763a585",
   "metadata": {},
   "outputs": [
    {
     "data": {
      "text/plain": [
       "array([[500,   0],\n",
       "       [ 16, 484]], dtype=int64)"
      ]
     },
     "execution_count": 52,
     "metadata": {},
     "output_type": "execute_result"
    }
   ],
   "source": [
    "predicted_values"
   ]
  },
  {
   "cell_type": "code",
   "execution_count": null,
   "id": "cf2ffe61",
   "metadata": {},
   "outputs": [],
   "source": [
    "# in above metrics digonals 500 + 484 = 984 is correct predicted\n",
    "# and other diagonal 16+0 = 16 is wrong predicted"
   ]
  }
 ],
 "metadata": {
  "kernelspec": {
   "display_name": "Python 3 (ipykernel)",
   "language": "python",
   "name": "python3"
  },
  "language_info": {
   "codemirror_mode": {
    "name": "ipython",
    "version": 3
   },
   "file_extension": ".py",
   "mimetype": "text/x-python",
   "name": "python",
   "nbconvert_exporter": "python",
   "pygments_lexer": "ipython3",
   "version": "3.9.12"
  }
 },
 "nbformat": 4,
 "nbformat_minor": 5
}
